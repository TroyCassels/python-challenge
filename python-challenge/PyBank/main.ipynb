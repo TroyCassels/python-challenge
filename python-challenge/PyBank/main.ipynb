{
 "cells": [
  {
   "cell_type": "code",
   "execution_count": 1,
   "id": "0e57371e-eba0-4911-8c84-a93d7408a58f",
   "metadata": {},
   "outputs": [],
   "source": [
    "#Import data file\n",
    "\n",
    "from pathlib import Path"
   ]
  },
  {
   "cell_type": "code",
   "execution_count": 2,
   "id": "b48a6f50-f650-482d-94ee-7fb0f9cabff7",
   "metadata": {},
   "outputs": [],
   "source": [
    "import csv"
   ]
  },
  {
   "cell_type": "code",
   "execution_count": 3,
   "id": "0dccc727-03d2-4a3c-ad31-65ec2b270a20",
   "metadata": {},
   "outputs": [],
   "source": [
    "input_file = Path(\"/Users/troycassels/Documents/budget_data.csv\")"
   ]
  },
  {
   "cell_type": "code",
   "execution_count": 4,
   "id": "6804d9bf-c5a9-4699-af44-8463605fa954",
   "metadata": {},
   "outputs": [],
   "source": [
    "# Initialise parameters\n",
    "\n",
    "total_month = 0\n",
    "month_of_change = []\n",
    "net_change_list = []\n",
    "greatest_increase = [\"\",0]\n",
    "greatest_decrease = [\"\",9999999999]\n",
    "total_net = 0"
   ]
  },
  {
   "cell_type": "code",
   "execution_count": 5,
   "id": "4378bb56-9374-4824-8986-5d7d1c03740b",
   "metadata": {},
   "outputs": [],
   "source": [
    "#Read from file\n",
    "\n",
    "file = open(input_file)\n",
    "reader = csv.reader(file)"
   ]
  },
  {
   "cell_type": "code",
   "execution_count": 6,
   "id": "4c77133f-8fa1-49ac-a27e-f1c7e82c6d61",
   "metadata": {},
   "outputs": [],
   "source": [
    "with open(input_file) as financial_data:\n",
    "   reader = csv.reader(financial_data)"
   ]
  },
  {
   "cell_type": "code",
   "execution_count": 7,
   "id": "593ac3de-9b6d-4275-b008-4eb6992954fa",
   "metadata": {},
   "outputs": [],
   "source": [
    "# Calculate required values\n",
    "\n",
    "with open(input_file) as financial_data:\n",
    "   reader = csv.reader(financial_data)\n",
    "\n",
    "   header = next(reader)\n",
    "\n",
    "   first_row = next(reader)\n",
    "   total_month = total_month + 1\n",
    "   total_net = total_net + int(first_row[1])\n",
    "   previous_net = int(first_row[1])\n",
    "\n",
    "   for row in reader:\n",
    "\n",
    "       total_month = total_month + 1\n",
    "       total_net = total_net + int(row[1])\n",
    "\n",
    "\n",
    "       average_change = int(row[1])-previous_net\n",
    "\n",
    "\n",
    "       net_change_list = net_change_list + [average_change]\n",
    "       previous_net = int(first_row[1])\n",
    "\n",
    "       month_of_change = month_of_change + [row[0]]\n",
    "\n",
    "       if average_change > greatest_increase[1]:\n",
    "           greatest_increase[0] = row[0]\n",
    "           greatest_increase[1] = average_change\n",
    "\n",
    "       if average_change < greatest_decrease[1]:\n",
    "           greatest_decrease[0] = row[0]\n",
    "           greatest_decrease[1] = average_change"
   ]
  },
  {
   "cell_type": "code",
   "execution_count": 8,
   "id": "06bfee7d-d598-47d5-b4ad-3bef6b6bac95",
   "metadata": {},
   "outputs": [],
   "source": [
    "average_monthly_net = round(sum(net_change_list)/len(net_change_list),2)"
   ]
  },
  {
   "cell_type": "code",
   "execution_count": 9,
   "id": "145a911b-0fee-4f26-9db3-478bc9871b5d",
   "metadata": {},
   "outputs": [],
   "source": [
    "#Set output file path\n",
    "\n",
    "output = Path(\"/Users/troycassels/Documents/output.txt\")"
   ]
  },
  {
   "cell_type": "code",
   "execution_count": 10,
   "id": "cdb22d2e-ca2d-452f-9b11-848133b7adc8",
   "metadata": {},
   "outputs": [],
   "source": [
    "#Create output file\n",
    "\n",
    "with open (output,\"w\") as txt_file:\n",
    "   txt_file.write(f\"Financial analysis\\n\")\n",
    "   txt_file.write(f\"----------\\n\")\n",
    "   txt_file.write(f\"total months:{total_month}\\n\")\n",
    "   txt_file.write(f\"total:${total_net}\\n\")\n",
    "   txt_file.write(f\"Average change:${average_change}\\n\")\n",
    "   txt_file.write(f\"Greatest Increase in Profits: {greatest_increase[0]} (${greatest_increase[1]})\\n\")\n",
    "   txt_file.write(f\"Greatest Decrease in Profits: {greatest_decrease[0]} (${greatest_decrease[1]})\\n\")"
   ]
  }
 ],
 "metadata": {
  "kernelspec": {
   "display_name": "Python 3 (ipykernel)",
   "language": "python",
   "name": "python3"
  },
  "language_info": {
   "codemirror_mode": {
    "name": "ipython",
    "version": 3
   },
   "file_extension": ".py",
   "mimetype": "text/x-python",
   "name": "python",
   "nbconvert_exporter": "python",
   "pygments_lexer": "ipython3",
   "version": "3.7.13"
  }
 },
 "nbformat": 4,
 "nbformat_minor": 5
}
